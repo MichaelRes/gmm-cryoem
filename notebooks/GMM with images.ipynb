{
 "cells": [
  {
   "cell_type": "code",
   "execution_count": null,
   "metadata": {},
   "outputs": [],
   "source": [
    "%matplotlib inline"
   ]
  },
  {
   "cell_type": "code",
   "execution_count": null,
   "metadata": {},
   "outputs": [],
   "source": [
    "import numpy as np\n",
    "import matplotlib.pyplot as plt\n",
    "from scipy.spatial.transform import Rotation as R\n",
    "from sklearn.mixture import GaussianMixture\n",
    "import sys\n",
    "sys.path.append('../src/')\n",
    "from forward_modeling import project_volume, slice_volume\n",
    "from molecular_handling import particle\n",
    "from scipy.interpolate import RegularGridInterpolator\n",
    "from scipy.stats import norm"
   ]
  },
  {
   "cell_type": "code",
   "execution_count": null,
   "metadata": {},
   "outputs": [],
   "source": [
    "def gmm_image_dataset(particles,size=100,noise=0.1,size_grid=32):\n",
    "    \"\"\"\n",
    "        Arguments:\n",
    "        ---------\n",
    "        - particles (list): \n",
    "            list of the different particles in the dataset\n",
    "        - size (int {default:100}): \n",
    "            lentgh of the dataset\n",
    "        - noise (float {default: 0.1}):\n",
    "            noise added to the images\n",
    "        - size_grid (integer {default:32}):\n",
    "            number of voxels along each grid direction\n",
    "    \"\"\"\n",
    "    dataset = np.zeros((size, size_grid, size_grid))\n",
    "    n_particles = len(particles)\n",
    "    for t in range(size):\n",
    "        iat = np.random.randint(n_particles)\n",
    "        angle = np.random.rand() * 360\n",
    "        rot = R.from_euler('z', angle, degrees = True)\n",
    "        \n",
    "        particles[iat].rotate(quat = rot.as_quat())\n",
    "        dataset[t,:,:] = particles[iat].image\n",
    "    \n",
    "    return dataset + np.random.randn(dataset.shape[0], dataset.shape[1], dataset.shape[2])*noise"
   ]
  },
  {
   "cell_type": "code",
   "execution_count": null,
   "metadata": {},
   "outputs": [],
   "source": [
    "particle1 = particle(n_atom=3, rads_atom=[1.,2.,1.], size_grid = 32)\n",
    "particle2 = particle(n_atom=2, rads_atom=[2.,2.], size_grid = 32)\n",
    "particle3 = particle(n_atom=1, rads_atom=[3.], size_grid = 32)\n",
    "particles = [particle1, particle2, particle3]"
   ]
  },
  {
   "cell_type": "code",
   "execution_count": null,
   "metadata": {},
   "outputs": [],
   "source": [
    "dataset = gmm_image_dataset(particles, noise=0.1)"
   ]
  },
  {
   "cell_type": "markdown",
   "metadata": {},
   "source": [
    "# Simple gaussian mixture model applied directly to the images"
   ]
  },
  {
   "cell_type": "code",
   "execution_count": null,
   "metadata": {},
   "outputs": [],
   "source": [
    "reshaped_dataset = dataset.reshape(100,1024)\n",
    "gm = GaussianMixture(3)\n",
    "gm.fit(reshaped_dataset)\n",
    "\n",
    "images = gm.means_.reshape(3,32,32)"
   ]
  },
  {
   "cell_type": "code",
   "execution_count": null,
   "metadata": {},
   "outputs": [],
   "source": [
    "plt.imshow(particle1.image)"
   ]
  },
  {
   "cell_type": "code",
   "execution_count": null,
   "metadata": {},
   "outputs": [],
   "source": [
    "plt.imshow(particle2.image)"
   ]
  },
  {
   "cell_type": "code",
   "execution_count": null,
   "metadata": {},
   "outputs": [],
   "source": [
    "plt.imshow(particle3.image)"
   ]
  },
  {
   "cell_type": "code",
   "execution_count": null,
   "metadata": {},
   "outputs": [],
   "source": [
    "plt.imshow(images[0])"
   ]
  },
  {
   "cell_type": "code",
   "execution_count": null,
   "metadata": {},
   "outputs": [],
   "source": [
    "plt.imshow(images[1])"
   ]
  },
  {
   "cell_type": "code",
   "execution_count": null,
   "metadata": {},
   "outputs": [],
   "source": [
    "plt.imshow(images[2])"
   ]
  },
  {
   "cell_type": "markdown",
   "metadata": {},
   "source": [
    "It worked quite good without having to find the orientations"
   ]
  },
  {
   "cell_type": "markdown",
   "metadata": {},
   "source": [
    "# Marginalizing over the orientations"
   ]
  },
  {
   "cell_type": "code",
   "execution_count": null,
   "metadata": {},
   "outputs": [],
   "source": [
    "Rot = R.from_euler('z', 90, degrees = True)"
   ]
  },
  {
   "cell_type": "code",
   "execution_count": null,
   "metadata": {},
   "outputs": [],
   "source": [
    "def rot_mat(theta):\n",
    "    #theta in radians\n",
    "    c, s = np.cos(theta), np.sin(theta)\n",
    "    mat = np.array(((c, -s), (s, c)))\n",
    "    return mat\n",
    "    \n",
    "\n",
    "def rotate_image(image, theta):\n",
    "    rot = rot_mat(theta)\n",
    "    N = image.shape[0]\n",
    "    rot_image = np.zeros((N,N))\n",
    "    x = np.linspace(-1,1,N)\n",
    "    y = np.linspace(-1,1,N)\n",
    "    interpolating_function = RegularGridInterpolator((x,y), image)\n",
    "\n",
    "    for i in range(N):\n",
    "        x = -1 + i*2/(N-1)\n",
    "        for j in range(N):\n",
    "            y = -1 + j*2/(N-1)\n",
    "            vect = np.array((x,y))\n",
    "            vect_ = rot @ vect\n",
    "            if np.max(np.abs(vect_))<=1:\n",
    "                rot_image[i,j] += interpolating_function(vect_)\n",
    "                \n",
    "    return rot_image\n",
    "\n",
    "def proba(model, rotated_image):\n",
    "    prob = 1\n",
    "    for i in range(rotated_image.shape[0]):\n",
    "        for j in range(rotated_image.shape[1]):\n",
    "            prob*=(1 - norm.cdf(np.abs(model[i,j]-rotated_image[i,j]), loc = 0, scale = 1))*2\n",
    "    return prob\n",
    "\n",
    "def reconstruct(dataset, models, size):\n",
    "    thetas = np.linspace(0,360,size)\n",
    "    dtheta = 2/size *np.pi\n",
    "    next_models = np.zeros(models.shape)\n",
    "    probs = np.zeros((len(dataset), len(thetas), models.shape[0]))\n",
    "    for i in range(len(dataset)):\n",
    "        print(i)\n",
    "        for j in range(len(thetas)):\n",
    "            for k in range(models.shape[0]):\n",
    "                rotated_image = rotate_image(dataset[i], thetas[j])\n",
    "                prob = proba(models[k], rotated_image) * dtheta\n",
    "                probs[i,j,k]= prob\n",
    "                next_models[k] += prob * rotated_image\n",
    "                \n",
    "    for k in range(models.shape[0]):\n",
    "        next_models[k]/np.sum(probs[:,:,k])\n",
    "        \n",
    "    return next_models\n",
    "\n",
    "def EM(dataset, images_init):\n",
    "    return images_final"
   ]
  },
  {
   "cell_type": "code",
   "execution_count": null,
   "metadata": {},
   "outputs": [],
   "source": [
    "next_model = reconstruct(dataset, images, 10)"
   ]
  },
  {
   "cell_type": "code",
   "execution_count": null,
   "metadata": {},
   "outputs": [],
   "source": [
    "np.mean(next_model)"
   ]
  },
  {
   "cell_type": "code",
   "execution_count": null,
   "metadata": {},
   "outputs": [],
   "source": [
    "plt.imshow(next_model[0])"
   ]
  },
  {
   "cell_type": "code",
   "execution_count": null,
   "metadata": {},
   "outputs": [],
   "source": [
    "plt.imshow(next_model[1])"
   ]
  },
  {
   "cell_type": "code",
   "execution_count": null,
   "metadata": {},
   "outputs": [],
   "source": [
    "plt.imshow(next_model[2])"
   ]
  }
 ],
 "metadata": {
  "kernelspec": {
   "display_name": "Python 3",
   "language": "python",
   "name": "python3"
  },
  "language_info": {
   "codemirror_mode": {
    "name": "ipython",
    "version": 3
   },
   "file_extension": ".py",
   "mimetype": "text/x-python",
   "name": "python",
   "nbconvert_exporter": "python",
   "pygments_lexer": "ipython3",
   "version": "3.7.6"
  }
 },
 "nbformat": 4,
 "nbformat_minor": 4
}
