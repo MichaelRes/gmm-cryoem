{
 "cells": [
  {
   "cell_type": "code",
   "execution_count": 3,
   "metadata": {},
   "outputs": [],
   "source": [
    "import pathlib\n",
    "import numpy as np\n",
    "import wget"
   ]
  },
  {
   "cell_type": "markdown",
   "metadata": {},
   "source": [
    "# Download maps from EMDB"
   ]
  },
  {
   "cell_type": "markdown",
   "metadata": {},
   "source": [
    "## Reconstructions from EMPIAR datasets\n",
    "\n",
    "It might be interesting to relate the reconstructed maps to their original datasets.\n",
    "[EMPIAR](https://www.ebi.ac.uk/pdbe/emdb/empiar) is a database for raw and processed cryoEM data. Often, the maps that result from processing that data is stored on [EMDB](https://www.ebi.ac.uk/pdbe/emdb/).\n",
    "\n",
    "For example, consider the following ribosome dataset on EMPIAR: [EMPIAR-10077](https://www.ebi.ac.uk/pdbe/emdb/empiar/entry/10077/).\n",
    "\n",
    "This dataset contain much structural variability and the authors reconstructed several maps that correspond to the ribosome in various states (see [paper](https://www.nature.com/articles/nature20560) for details). The list of maps is: [EMD-4121](https://www.ebi.ac.uk/pdbe/entry/emdb/EMD-4121) [EMD-4122](https://www.ebi.ac.uk/pdbe/entry/emdb/EMD-4122) [EMD-4123](https://www.ebi.ac.uk/pdbe/entry/emdb/EMD-4123) [EMD-4124](https://www.ebi.ac.uk/pdbe/entry/emdb/EMD-4124) [EMD-4125](https://www.ebi.ac.uk/pdbe/entry/emdb/EMD-4125) [EMD-4126](https://www.ebi.ac.uk/pdbe/entry/emdb/EMD-4126)"
   ]
  },
  {
   "cell_type": "code",
   "execution_count": 4,
   "metadata": {},
   "outputs": [],
   "source": [
    "# make sure we have a local directory to download the data in:\n",
    "data_directory = pathlib.Path('..') / 'data'  # directory where the data is\n",
    "map_dir = data_directory / 'EMPIAR' / '10077' \n",
    "map_dir.mkdir(parents=True, exist_ok=True)"
   ]
  },
  {
   "cell_type": "code",
   "execution_count": 5,
   "metadata": {},
   "outputs": [
    {
     "name": "stdout",
     "output_type": "stream",
     "text": [
      ">>> downloading ftp://ftp.ebi.ac.uk/pub/databases/emdb/structures/EMD-4121/map/emd_4121.map.gz...\n",
      ">>> downloading ftp://ftp.ebi.ac.uk/pub/databases/emdb/structures/EMD-4122/map/emd_4122.map.gz...\n",
      ">>> downloading ftp://ftp.ebi.ac.uk/pub/databases/emdb/structures/EMD-4123/map/emd_4123.map.gz...\n",
      ">>> downloading ftp://ftp.ebi.ac.uk/pub/databases/emdb/structures/EMD-4124/map/emd_4124.map.gz...\n",
      ">>> downloading ftp://ftp.ebi.ac.uk/pub/databases/emdb/structures/EMD-4125/map/emd_4125.map.gz...\n",
      ">>> downloading ftp://ftp.ebi.ac.uk/pub/databases/emdb/structures/EMD-4126/map/emd_4126.map.gz...\n",
      "Done!\n"
     ]
    }
   ],
   "source": [
    "url_emdb='ftp://ftp.ebi.ac.uk/pub/databases/emdb/structures/'\n",
    "for id in np.arange(4121,4127):\n",
    "    fname = f'emd_{id}.map.gz'\n",
    "    if pathlib.Path(map_dir / fname).is_file():\n",
    "        print(f'>>> {fname} already downloaded')\n",
    "    else:\n",
    "        url = f'{url_emdb}EMD-{id}/map/{fname}'\n",
    "        print(f'>>> downloading {url}...')\n",
    "        wget.download(url, out=str(map_dir))\n",
    "print(f'Done!')"
   ]
  },
  {
   "cell_type": "code",
   "execution_count": null,
   "metadata": {},
   "outputs": [],
   "source": []
  }
 ],
 "metadata": {
  "kernelspec": {
   "display_name": "Python 3",
   "language": "python",
   "name": "python3"
  },
  "language_info": {
   "codemirror_mode": {
    "name": "ipython",
    "version": 3
   },
   "file_extension": ".py",
   "mimetype": "text/x-python",
   "name": "python",
   "nbconvert_exporter": "python",
   "pygments_lexer": "ipython3",
   "version": "3.7.6"
  }
 },
 "nbformat": 4,
 "nbformat_minor": 4
}
