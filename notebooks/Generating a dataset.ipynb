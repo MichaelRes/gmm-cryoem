{
 "cells": [
  {
   "cell_type": "code",
   "execution_count": 41,
   "metadata": {},
   "outputs": [],
   "source": [
    "import numpy as np\n",
    "from scipy.spatial.transform import Rotation as R\n",
    "import matplotlib.pyplot as plt\n",
    "from numpy import savetxt"
   ]
  },
  {
   "cell_type": "code",
   "execution_count": 49,
   "metadata": {},
   "outputs": [],
   "source": [
    "class particle:\n",
    "    \"\"\"class that define a particle\"\"\"\n",
    "    def __init__(self, n_atom, rads_atom, size = 10):\n",
    "        self.n_atom = n_atom\n",
    "        self.rads_atom = rads_atom\n",
    "        self.size = size\n",
    "        self.crds = size * np.random.rand(n_atom, 3)\n",
    "        self.crds -= np.mean(self.crds, axis=0)\n",
    "        self.rads = rads_atom\n",
    "        self.image = None\n",
    "        self.size_grid = 32\n",
    "        self.size_image = 25\n",
    "        \n",
    "    def rotate(self, random = True, quat = None):\n",
    "        \"\"\"\n",
    "        Rotating the particle with the quaternion notation\n",
    "        \"\"\"\n",
    "        if random:\n",
    "            rotation =  R.random()\n",
    "        else:\n",
    "            rotation = R.from_quat(quat)\n",
    "            \n",
    "        for i in range(self.n_atom):\n",
    "            self.crds[i] = rotation.apply(self.crds[i])\n",
    "            \n",
    "        self.create_image()\n",
    "    \n",
    "    def create_image(self):\n",
    "        \"\"\"\n",
    "        Return the projection of the particle along the z axis\n",
    "        \"\"\"\n",
    "        image = np.zeros((self.size_grid,self.size_grid))\n",
    "        for i in range(self.size_grid):\n",
    "            for j in range(self.size_grid):\n",
    "                posx = -self.size_image/2 + i*self.size_image/(self.size_grid-1)\n",
    "                posy = -self.size_image/2 + j*self.size_image/(self.size_grid-1)\n",
    "                \n",
    "                for iat in range(self.n_atom):\n",
    "                    dx = self.crds[iat,0] - posx\n",
    "                    dy = self.crds[iat,1] - posy\n",
    "                    dist2 = dx*dx + dy*dy\n",
    "                    if dist2 <= 100:\n",
    "                        #integrating along z axis\n",
    "                        image[i,j] += np.sqrt(np.pi)*np.exp(-0.5*dist2/self.rads[iat]**2)\n",
    "                        \n",
    "        self.image = image\n",
    "    \n",
    "    def show(self):\n",
    "        if self.has_image:\n",
    "            plt.imshow(self.image, cmap='Greys')            "
   ]
  },
  {
   "cell_type": "code",
   "execution_count": 62,
   "metadata": {},
   "outputs": [],
   "source": [
    "def generate_dataset(particle, length):\n",
    "    \n",
    "    dataset = np.zeros((length, particle.size_grid, particle.size_grid))\n",
    "    for i in range(length):\n",
    "        particle.rotate()\n",
    "        dataset[i] = particle.image\n",
    "        \n",
    "        if (i+1)%100 == 0:\n",
    "            print(str(i+1) + ' images were created')\n",
    "    # save to csv file\n",
    "    filename = 'dataset ' + str(particle.n_atom) + ' atoms (' + str(length) + ' images)'\n",
    "    np.save(filename, dataset)\n",
    "    \n",
    "    "
   ]
  },
  {
   "cell_type": "code",
   "execution_count": 35,
   "metadata": {},
   "outputs": [
    {
     "data": {
      "image/png": "[encoded data removed]",
      "text/plain": [
       "<Figure size 432x288 with 1 Axes>"
      ]
     },
     "metadata": {
      "needs_background": "light"
     },
     "output_type": "display_data"
    }
   ],
   "source": [
    "a = particle()"
   ]
  },
  {
   "cell_type": "code",
   "execution_count": 63,
   "metadata": {},
   "outputs": [
    {
     "name": "stdout",
     "output_type": "stream",
     "text": [
      "100 images were created\n",
      "200 images were created\n",
      "300 images were created\n",
      "400 images were created\n",
      "500 images were created\n",
      "600 images were created\n",
      "700 images were created\n",
      "800 images were created\n",
      "900 images were created\n",
      "1000 images were created\n"
     ]
    }
   ],
   "source": [
    "#test\n",
    "particle_ = particle(3, [1,2,1])\n",
    "generate_dataset(particle_,1000)"
   ]
  },
  {
   "cell_type": "code",
   "execution_count": 64,
   "metadata": {},
   "outputs": [],
   "source": [
    "dataset = np.load('dataset 3 atoms (1000 images).npy')"
   ]
  },
  {
   "cell_type": "code",
   "execution_count": 73,
   "metadata": {},
   "outputs": [
    {
     "data": {
      "image/png": "[encoded data removed]",
      "text/plain": [
       "<Figure size 432x288 with 1 Axes>"
      ]
     },
     "metadata": {
      "needs_background": "light"
     },
     "output_type": "display_data"
    }
   ],
   "source": [
    "plt.imshow(dataset[5], cmap ='Greys')"
   ]
  }
 ],
 "metadata": {
  "kernelspec": {
   "display_name": "Python 3",
   "language": "python",
   "name": "python3"
  },
  "language_info": {
   "codemirror_mode": {
    "name": "ipython",
    "version": 3
   },
   "file_extension": ".py",
   "mimetype": "text/x-python",
   "name": "python",
   "nbconvert_exporter": "python",
   "pygments_lexer": "ipython3",
   "version": "3.7.3"
  }
 },
 "nbformat": 4,
 "nbformat_minor": 2
}
