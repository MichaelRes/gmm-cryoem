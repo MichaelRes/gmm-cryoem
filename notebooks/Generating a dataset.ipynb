{
 "cells": [
  {
   "cell_type": "code",
   "execution_count": 9,
   "metadata": {},
   "outputs": [],
   "source": [
    "import numpy as np\n",
    "from scipy.spatial.transform import Rotation as R\n",
    "import matplotlib.pyplot as plt\n",
    "from numpy import savetxt"
   ]
  },
  {
   "cell_type": "code",
   "execution_count": 14,
   "metadata": {},
   "outputs": [],
   "source": [
    "class particle:\n",
    "    \"\"\"class that define a particle\"\"\"\n",
    "    def __init__(self, n_atom, rads_atom,size = 10,size_grid=32, size_image=25):\n",
    "        self.n_atom = n_atom\n",
    "        self.rads_atom = rads_atom\n",
    "        self.size = size\n",
    "        self.crds = size * np.random.rand(n_atom, 3)\n",
    "        self.crds -= np.mean(self.crds, axis=0)\n",
    "        self.rads = rads_atom\n",
    "        self.image = None\n",
    "        self.size_grid = size_grid\n",
    "        self.size_image = size_image\n",
    "        self.map = None\n",
    "        self.last_rot = None\n",
    "        \n",
    "    def rotate(self, random = True, quat = None):\n",
    "        \"\"\"\n",
    "        Rotating the particle with the quaternion notation\n",
    "        \"\"\"\n",
    "        if random:\n",
    "            rotation =  R.random()\n",
    "        else:\n",
    "            rotation = R.from_quat(quat)\n",
    "            \n",
    "        self.last_rot = rotation.as_rotvec()\n",
    "        \n",
    "        for i in range(self.n_atom):\n",
    "            self.crds[i] = rotation.apply(self.crds[i])\n",
    "            \n",
    "        self.create_image()\n",
    "    \n",
    "    def create_image(self):\n",
    "        \"\"\"\n",
    "        Return the projection of the particle along the z axis\n",
    "        \"\"\"\n",
    "        image = np.zeros((self.size_grid,self.size_grid))\n",
    "        for i in range(self.size_grid):\n",
    "            posx = -self.size_image/2 + i*self.size_image/(self.size_grid-1)\n",
    "            for j in range(self.size_grid):\n",
    "                posy = -self.size_image/2 + j*self.size_image/(self.size_grid-1)\n",
    "                \n",
    "                for iat in range(self.n_atom):\n",
    "                    dx = self.crds[iat,0] - posx\n",
    "                    dy = self.crds[iat,1] - posy\n",
    "                    dist2 = dx*dx + dy*dy\n",
    "                    if dist2 <= 100:\n",
    "                        #integrating along z axis\n",
    "                        image[i,j] += np.sqrt(np.pi)*np.exp(-0.5*dist2/self.rads[iat]**2)\n",
    "                        \n",
    "        self.image = image\n",
    "    \n",
    "    def show(self):\n",
    "        if self.has_image:\n",
    "            plt.imshow(self.image, cmap='Greys') \n",
    "            \n",
    "    def create_map(self):\n",
    "        \"\"\"\n",
    "        return a 3d array of the particle\n",
    "        \"\"\"\n",
    "        volume = np.zeros((self.size_grid,self.size_grid,self.size_grid))\n",
    "        for i in range(self.size_grid):\n",
    "            posx = -self.size_image/2 + i*self.size_image/(self.size_grid-1)\n",
    "            for j in range(self.size_grid):\n",
    "                posy = -self.size_image/2 + j*self.size_image/(self.size_grid-1)\n",
    "                for k in range(self.size_grid):\n",
    "                    posz = -self.size_image/2 + k*self.size_image/(self.size_grid-1)\n",
    "                    \n",
    "                    for iat in range(self.n_atom):\n",
    "                        dx = self.crds[iat,0] - posx\n",
    "                        dy = self.crds[iat,1] - posy\n",
    "                        dz = self.crds[iat,2] - posz\n",
    "                        dist2  = dx*dx + dy*dy + dz*dz\n",
    "                        if(dist2 <= 100):\n",
    "                            volume[i,j,k] += np.exp(-0.5*dist2/self.rads[iat]**2)\n",
    "        self.volume = volume"
   ]
  },
  {
   "cell_type": "code",
   "execution_count": 19,
   "metadata": {},
   "outputs": [],
   "source": [
    "def generate_dataset(particle, length, with_orientation = False):\n",
    "    \n",
    "    dataset = np.zeros((length, particle.size_grid, particle.size_grid))\n",
    "    if (with_orientation):\n",
    "        orientations = np.zeros((length, 3))\n",
    "        for i in range(length):\n",
    "            particle.rotate()\n",
    "            dataset[i] = particle.image\n",
    "            orientations[i] = particle.last_rot\n",
    "            if (i+1)%100 == 0:\n",
    "                print(str(i+1) + ' images were created')\n",
    "    else:\n",
    "        for i in range(length):\n",
    "            particle.rotate()\n",
    "            dataset[i] = particle.image\n",
    "            if (i+1)%100 == 0:\n",
    "                print(str(i+1) + ' images were created')\n",
    "\n",
    "        \n",
    "    # save to csv file\n",
    "    data_name = 'dataset ' + str(particle.n_atom) + ' atoms (' + str(length) + ' images)'\n",
    "    np.save(data_name, dataset)\n",
    "    \n",
    "    particle.create_map()\n",
    "    map_name = 'reconstructed map of ' + data_name\n",
    "    np.save(map_name, particle.volume)\n",
    "    \n",
    "    if (with_orientation):\n",
    "        orientations_name = 'orientations of ' + data_name\n",
    "        np.save(orientations_name, orientations)\n",
    "    \n",
    "    "
   ]
  },
  {
   "cell_type": "code",
   "execution_count": 12,
   "metadata": {
    "scrolled": true
   },
   "outputs": [
    {
     "name": "stdout",
     "output_type": "stream",
     "text": [
      "100 images were created\n",
      "200 images were created\n",
      "300 images were created\n",
      "400 images were created\n",
      "500 images were created\n",
      "600 images were created\n",
      "700 images were created\n",
      "800 images were created\n",
      "900 images were created\n",
      "1000 images were created\n"
     ]
    }
   ],
   "source": [
    "#test\n",
    "particle_ = particle(3, [1,2,1])\n",
    "generate_dataset(particle_,1000)"
   ]
  },
  {
   "cell_type": "code",
   "execution_count": 4,
   "metadata": {},
   "outputs": [
    {
     "name": "stdout",
     "output_type": "stream",
     "text": [
      "100 images were created\n"
     ]
    }
   ],
   "source": [
    "#higher quality dataset\n",
    "particle_ = particle(2, [1,2], size_grid = 128)\n",
    "generate_dataset(particle_,100)"
   ]
  },
  {
   "cell_type": "code",
   "execution_count": 20,
   "metadata": {},
   "outputs": [
    {
     "name": "stdout",
     "output_type": "stream",
     "text": [
      "100 images were created\n",
      "200 images were created\n"
     ]
    }
   ],
   "source": [
    "#dataset with orientations\n",
    "particle_ = particle(3, [1,2,2])\n",
    "generate_dataset(particle_,200, with_orientation = True)"
   ]
  }
 ],
 "metadata": {
  "kernelspec": {
   "display_name": "Python 3",
   "language": "python",
   "name": "python3"
  },
  "language_info": {
   "codemirror_mode": {
    "name": "ipython",
    "version": 3
   },
   "file_extension": ".py",
   "mimetype": "text/x-python",
   "name": "python",
   "nbconvert_exporter": "python",
   "pygments_lexer": "ipython3",
   "version": "3.7.3"
  }
 },
 "nbformat": 4,
 "nbformat_minor": 2
}
