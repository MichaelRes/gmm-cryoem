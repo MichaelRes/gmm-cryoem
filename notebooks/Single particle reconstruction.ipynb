{
 "cells": [
  {
   "cell_type": "code",
   "execution_count": 11,
   "metadata": {},
   "outputs": [],
   "source": [
    "import numpy as np\n",
    "import matplotlib.pyplot as plt\n",
    "from scipy.spatial.transform import Rotation as R\n",
    "from scipy.interpolate import RegularGridInterpolator\n",
    "from scipy.interpolate import griddata"
   ]
  },
  {
   "cell_type": "code",
   "execution_count": 120,
   "metadata": {},
   "outputs": [],
   "source": [
    "dataset = np.load('generated_dataset/dataset 3 atoms (1000 images).npy')\n",
    "volume = np.load('generated_dataset/reconstructed map of dataset 3 atoms (1000 images).npy')"
   ]
  },
  {
   "cell_type": "code",
   "execution_count": 6,
   "metadata": {},
   "outputs": [],
   "source": [
    "size_image = 25 #not necessary actually\n",
    "N = 32 #size grid"
   ]
  },
  {
   "cell_type": "code",
   "execution_count": 257,
   "metadata": {},
   "outputs": [
    {
     "data": {
      "text/plain": [
       "<matplotlib.image.AxesImage at 0x7f87ddda0b38>"
      ]
     },
     "execution_count": 257,
     "metadata": {},
     "output_type": "execute_result"
    },
    {
     "data": {
      "image/png": "[encoded data removed]",
      "text/plain": [
       "<Figure size 432x288 with 1 Axes>"
      ]
     },
     "metadata": {
      "needs_background": "light"
     },
     "output_type": "display_data"
    }
   ],
   "source": [
    "i=20\n",
    "plt.imshow(dataset[i])"
   ]
  },
  {
   "cell_type": "code",
   "execution_count": 65,
   "metadata": {},
   "outputs": [],
   "source": [
    "def Slice(vol, Rotation):\n",
    "    \"\"\"\n",
    "    Take a slice out of volume\n",
    "    \"\"\"\n",
    "\n",
    "    N = volume.shape[0]\n",
    "    image = np.zeros((N,N), dtype=np.complex_)\n",
    "    x = np.linspace(-1,1,N)\n",
    "    y = np.linspace(-1,1,N)\n",
    "    z = np.linspace(-1,1,N)\n",
    "    interpolating_function = RegularGridInterpolator((x,y,z), vol)\n",
    "\n",
    "    for i in range(N):\n",
    "        x = -1 + i*2/(N-1)\n",
    "        for j in range(N):\n",
    "            y = -1 + j*2/(N-1)\n",
    "            \n",
    "            vect = np.array((x,y,0))\n",
    "            vect_ = Rotation.apply(vect)\n",
    "            if np.max(np.abs(vect_))<=1:\n",
    "                image[i,j] += interpolating_function(vect_)\n",
    "\n",
    "    return image"
   ]
  },
  {
   "cell_type": "code",
   "execution_count": 213,
   "metadata": {},
   "outputs": [
    {
     "data": {
      "text/plain": [
       "<matplotlib.image.AxesImage at 0x7f87de895d68>"
      ]
     },
     "execution_count": 213,
     "metadata": {},
     "output_type": "execute_result"
    },
    {
     "data": {
      "image/png": "[encoded data removed]",
      "text/plain": [
       "<Figure size 432x288 with 1 Axes>"
      ]
     },
     "metadata": {
      "needs_background": "light"
     },
     "output_type": "display_data"
    }
   ],
   "source": [
    "Rot = R.random()\n",
    "plt.imshow(np.real(Slice(volume, Rot)))"
   ]
  },
  {
   "cell_type": "markdown",
   "metadata": {},
   "source": [
    "It seems to work"
   ]
  },
  {
   "cell_type": "code",
   "execution_count": 278,
   "metadata": {},
   "outputs": [
    {
     "data": {
      "text/plain": [
       "<matplotlib.image.AxesImage at 0x7f87dd6a8828>"
      ]
     },
     "execution_count": 278,
     "metadata": {},
     "output_type": "execute_result"
    },
    {
     "data": {
      "image/png": "[encoded data removed]",
      "text/plain": [
       "<Figure size 432x288 with 1 Axes>"
      ]
     },
     "metadata": {
      "needs_background": "light"
     },
     "output_type": "display_data"
    }
   ],
   "source": [
    "#Rot = R.random(random_state = 0)\n",
    "Rot = R.from_euler('y', -180, degrees = True)\n",
    "\n",
    "vol_ft = np.fft.fftn(volume)\n",
    "vol_shift = np.fft.fftshift(vol_ft)\n",
    "im_ft = Slice(vol_shift, Rot)\n",
    "im = np.fft.ifftshift(im_ft)\n",
    "\n",
    "plt.imshow(np.real(np.fft.ifft2(im)))"
   ]
  },
  {
   "cell_type": "code",
   "execution_count": 251,
   "metadata": {},
   "outputs": [
    {
     "data": {
      "text/plain": [
       "<matplotlib.image.AxesImage at 0x7f87ddff4160>"
      ]
     },
     "execution_count": 251,
     "metadata": {},
     "output_type": "execute_result"
    },
    {
     "data": {
      "image/png": "[encoded data removed]",
      "text/plain": [
       "<Figure size 432x288 with 1 Axes>"
      ]
     },
     "metadata": {
      "needs_background": "light"
     },
     "output_type": "display_data"
    }
   ],
   "source": [
    "im_ = Slice(volume, Rot)\n",
    "\n",
    "plt.imshow(np.real(im_))"
   ]
  },
  {
   "cell_type": "markdown",
   "metadata": {},
   "source": [
    "Si j'essaie avec la slice à x=0"
   ]
  },
  {
   "cell_type": "code",
   "execution_count": 233,
   "metadata": {},
   "outputs": [
    {
     "data": {
      "text/plain": [
       "<matplotlib.image.AxesImage at 0x7f87de65fb70>"
      ]
     },
     "execution_count": 233,
     "metadata": {},
     "output_type": "execute_result"
    },
    {
     "data": {
      "image/png": "[encoded data removed]",
      "text/plain": [
       "<Figure size 432x288 with 1 Axes>"
      ]
     },
     "metadata": {
      "needs_background": "light"
     },
     "output_type": "display_data"
    }
   ],
   "source": [
    "slice_ = (vol_shift[16, :, :] + vol_shift[17, :, :])/2\n",
    "slice_ = np.fft.ifftshift(slice_)\n",
    "im = np.fft.ifft2(slice_)\n",
    "plt.imshow(np.real(im))"
   ]
  },
  {
   "cell_type": "code",
   "execution_count": 168,
   "metadata": {},
   "outputs": [
    {
     "data": {
      "text/plain": [
       "<matplotlib.image.AxesImage at 0x7f87e2f16048>"
      ]
     },
     "execution_count": 168,
     "metadata": {},
     "output_type": "execute_result"
    },
    {
     "data": {
      "image/png": "[encoded data removed]",
      "text/plain": [
       "<Figure size 432x288 with 1 Axes>"
      ]
     },
     "metadata": {
      "needs_background": "light"
     },
     "output_type": "display_data"
    }
   ],
   "source": [
    "plt.imshow(np.sum(volume, axis = 0))"
   ]
  },
  {
   "cell_type": "code",
   "execution_count": 113,
   "metadata": {},
   "outputs": [],
   "source": [
    "def backprojection1(images, orientations):\n",
    "    \"\"\"\n",
    "    backprojection with conventional method (the orientations are assigned)\n",
    "    \"\"\"\n",
    "    N = images[0].shape[0]\n",
    "    dico = {}\n",
    "    index_images = np.arange(len(images))\n",
    "    index = np.arange(N)\n",
    "    for n in index_images:\n",
    "        rot = R.from_rotvec(-orientations[n]) #transpose\n",
    "        for i in index:\n",
    "            x = -1 + i*2/(N-1)\n",
    "            for j in index:\n",
    "                y = -1 + j*2/(N-1)\n",
    "                vect = np.array((x,y,0))\n",
    "                vect_ = rot.apply(vect)\n",
    "                key = np.array2string(vect_, precision=3, separator=',', suppress_small=True)\n",
    "                if key in dico.keys():\n",
    "                    dico[key][0] += images[n][i,j]\n",
    "                    dico[key][1] +=1\n",
    "                else:\n",
    "                    dico[key] = np.array((images[n,i,j], 1))\n",
    "    points = np.zeros((len(dico), 3))\n",
    "    values = np.zeros(len(dico))\n",
    "    ctr = 0\n",
    "    for keys in dico.keys():\n",
    "        points[ctr] = eval('np.array(' + keys + ')')\n",
    "        values[ctr] = dico[keys][0] / dico[keys][1]\n",
    "        ctr+=1\n",
    "    \n",
    "    grid_x, grid_y, grid_z = np.meshgrid(np.linspace(-1,1,N),np.linspace(-1,1,N),np.linspace(-1,1,N))\n",
    "\n",
    "    volume = griddata(points, values, (grid_x, grid_y, grid_z))\n",
    "    return volume"
   ]
  },
  {
   "cell_type": "code",
   "execution_count": null,
   "metadata": {},
   "outputs": [],
   "source": [
    "def reconstruct(dataset, V_0, sigma_0=0, tau_0):\n",
    "    return"
   ]
  },
  {
   "cell_type": "code",
   "execution_count": 105,
   "metadata": {},
   "outputs": [],
   "source": [
    "#test\n",
    "file_name = 'dataset 3 atoms (200 images)'\n",
    "dataset = np.load('generated_dataset/' + file_name + '/' + file_name + '.npy')\n",
    "volume_ = np.load('generated_dataset/' + file_name + '/reconstructed map of '+ file_name + '.npy')\n",
    "orientations = np.load('generated_dataset/'+ file_name + '/orientations of '+ file_name +'.npy')"
   ]
  },
  {
   "cell_type": "code",
   "execution_count": 114,
   "metadata": {},
   "outputs": [],
   "source": [
    "vol = backprojection1(dataset, orientations)"
   ]
  },
  {
   "cell_type": "code",
   "execution_count": 120,
   "metadata": {},
   "outputs": [
    {
     "data": {
      "text/plain": [
       "<matplotlib.image.AxesImage at 0x7fdae2077c50>"
      ]
     },
     "execution_count": 120,
     "metadata": {},
     "output_type": "execute_result"
    },
    {
     "data": {
      "image/png": "[encoded data removed]",
      "text/plain": [
       "<Figure size 432x288 with 1 Axes>"
      ]
     },
     "metadata": {
      "needs_background": "light"
     },
     "output_type": "display_data"
    }
   ],
   "source": [
    "Rot = R.random()\n",
    "\n",
    "im_ = Slice(vol, Rot)\n",
    "\n",
    "plt.imshow(np.real(im_))"
   ]
  }
 ],
 "metadata": {
  "kernelspec": {
   "display_name": "Python 3",
   "language": "python",
   "name": "python3"
  },
  "language_info": {
   "codemirror_mode": {
    "name": "ipython",
    "version": 3
   },
   "file_extension": ".py",
   "mimetype": "text/x-python",
   "name": "python",
   "nbconvert_exporter": "python",
   "pygments_lexer": "ipython3",
   "version": "3.7.3"
  }
 },
 "nbformat": 4,
 "nbformat_minor": 2
}
