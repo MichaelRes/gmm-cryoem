{
 "cells": [
  {
   "cell_type": "code",
   "execution_count": 119,
   "metadata": {},
   "outputs": [],
   "source": [
    "import numpy as np\n",
    "import matplotlib.pyplot as plt\n",
    "from scipy.spatial.transform import Rotation as R\n",
    "from scipy.interpolate import RegularGridInterpolator"
   ]
  },
  {
   "cell_type": "code",
   "execution_count": 120,
   "metadata": {},
   "outputs": [],
   "source": [
    "dataset = np.load('generated_dataset/dataset 3 atoms (1000 images).npy')\n",
    "volume = np.load('generated_dataset/reconstructed map of dataset 3 atoms (1000 images).npy')"
   ]
  },
  {
   "cell_type": "code",
   "execution_count": 121,
   "metadata": {},
   "outputs": [],
   "source": [
    "def ft(obj):\n",
    "    \"\"\"\n",
    "    Calculating the fast fourier transform of an image or volume \n",
    "    \"\"\"\n",
    "    return np.fft.fftn(obj)\n",
    "    "
   ]
  },
  {
   "cell_type": "code",
   "execution_count": 122,
   "metadata": {},
   "outputs": [],
   "source": [
    "def Slice(vol, Rotation):\n",
    "    \"\"\"\n",
    "    Take a slice out of volume\n",
    "    \"\"\"\n",
    "\n",
    "    N = volume.shape[0]\n",
    "    image = np.zeros((N,N), dtype=np.complex_)\n",
    "    x = np.linspace(-1,1,N)\n",
    "    y = np.linspace(-1,1,N)\n",
    "    z = np.linspace(-1,1,N)\n",
    "    interpolating_function = RegularGridInterpolator((x,y,z), vol)\n",
    "\n",
    "    for i in range(N):\n",
    "        x = -1 + i*2/(N-1)\n",
    "        for j in range(N):\n",
    "            y = -1 + j*2/(N-1)\n",
    "            \n",
    "            vect = np.array((x,y,0))\n",
    "            vect_ = Rotation.apply(vect)\n",
    "            if np.max(np.abs(vect_))<=1:\n",
    "                image[i,j] += interpolating_function(vect_)\n",
    "\n",
    "    return image"
   ]
  },
  {
   "cell_type": "code",
   "execution_count": 6,
   "metadata": {},
   "outputs": [],
   "source": [
    "size_image = 25 #not necessary actually\n",
    "N = 32 #size grid"
   ]
  },
  {
   "cell_type": "code",
   "execution_count": 128,
   "metadata": {},
   "outputs": [
    {
     "data": {
      "text/plain": [
       "<matplotlib.image.AxesImage at 0x7f87e37d1048>"
      ]
     },
     "execution_count": 128,
     "metadata": {},
     "output_type": "execute_result"
    },
    {
     "data": {
      "image/png": "[encoded data removed]",
      "text/plain": [
       "<Figure size 432x288 with 1 Axes>"
      ]
     },
     "metadata": {
      "needs_background": "light"
     },
     "output_type": "display_data"
    }
   ],
   "source": [
    "Rot = R.random(random_state = 6)\n",
    "\n",
    "vol_ft = np.fft.fftn(volume)\n",
    "vol_shift = np.fft.fftshift(vol_ft)\n",
    "im_ft = Slice(vol_shift, Rot)\n",
    "im = np.fft.ifftshift(im_ft)\n",
    "\n",
    "plt.imshow(np.abs(np.fft.ifft2(im)), cmap = 'Greys')"
   ]
  },
  {
   "cell_type": "code",
   "execution_count": 129,
   "metadata": {},
   "outputs": [
    {
     "data": {
      "text/plain": [
       "<matplotlib.image.AxesImage at 0x7f87e372d240>"
      ]
     },
     "execution_count": 129,
     "metadata": {},
     "output_type": "execute_result"
    },
    {
     "data": {
      "image/png": "[encoded data removed]",
      "text/plain": [
       "<Figure size 432x288 with 1 Axes>"
      ]
     },
     "metadata": {
      "needs_background": "light"
     },
     "output_type": "display_data"
    }
   ],
   "source": [
    "im_ = Slice(volume, Rot)\n",
    "\n",
    "plt.imshow(np.absolute(im_))"
   ]
  },
  {
   "cell_type": "code",
   "execution_count": null,
   "metadata": {},
   "outputs": [],
   "source": [
    "def backprojection(image, n):\n",
    "    \"\"\"\n",
    "    \"\"\"\n",
    "    return"
   ]
  },
  {
   "cell_type": "code",
   "execution_count": null,
   "metadata": {},
   "outputs": [],
   "source": [
    "def reconstruct(dataset, V_0, sigma_0=0, tau_0):\n",
    "    return"
   ]
  }
 ],
 "metadata": {
  "kernelspec": {
   "display_name": "Python 3",
   "language": "python",
   "name": "python3"
  },
  "language_info": {
   "codemirror_mode": {
    "name": "ipython",
    "version": 3
   },
   "file_extension": ".py",
   "mimetype": "text/x-python",
   "name": "python",
   "nbconvert_exporter": "python",
   "pygments_lexer": "ipython3",
   "version": "3.7.3"
  }
 },
 "nbformat": 4,
 "nbformat_minor": 2
}
