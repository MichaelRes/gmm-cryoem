{
 "cells": [
  {
   "cell_type": "code",
   "execution_count": 8,
   "metadata": {},
   "outputs": [],
   "source": [
    "%matplotlib inline\n",
    "import numpy as np\n",
    "from matplotlib import pyplot as plt"
   ]
  },
  {
   "cell_type": "markdown",
   "metadata": {},
   "source": [
    "# Build density map"
   ]
  },
  {
   "cell_type": "code",
   "execution_count": 38,
   "metadata": {},
   "outputs": [],
   "source": [
    "def init_crds(natom=2, R=10.):\n",
    "    \"\"\"init_crds\"\"\"\n",
    "    crds  = np.random.rand(natom, 3)*R\n",
    "    crds -= np.mean(crds, axis=0)\n",
    "    rads  = 1*np.ones(natom)\n",
    "    return crds, rads\n",
    "\n",
    "def init_volume(n, L, crds=None, rads=None):\n",
    "    \"\"\"init_volume: WAY TO SLOW, TO BE OPTIMIZED\n",
    "    \"\"\"\n",
    "    index  = np.arange(n)\n",
    "    volume = np.zeros((n,n,n))\n",
    "    for i in index:\n",
    "        posx = -L/2 + i*L/(n-1)\n",
    "        for j in index:\n",
    "            posy = -L/2 + j*L/(n-1)\n",
    "            for k in index:\n",
    "                posz = -L/2 + k*L/(n-1)\n",
    "                for iat in np.arange(crds.shape[0]):\n",
    "                    dx = crds[iat,0] - posx\n",
    "                    dy = crds[iat,1] - posy\n",
    "                    dz = crds[iat,2] - posz\n",
    "                    dist2  = dx*dx + dy*dy + dz*dz\n",
    "                    if(dist2 <= 100):\n",
    "                        dist2 /= rads[iat]**2\n",
    "                        volume[i,j,k] += np.exp(-0.5*dist2)\n",
    "    return volume"
   ]
  },
  {
   "cell_type": "code",
   "execution_count": 39,
   "metadata": {},
   "outputs": [],
   "source": [
    "atomic_coordinates, atomic_radii = init_crds(natom=10)\n",
    "density_volume = init_volume(32, 25., \n",
    "                             crds=atomic_coordinates,\n",
    "                             rads=atomic_radii)"
   ]
  },
  {
   "cell_type": "code",
   "execution_count": 42,
   "metadata": {},
   "outputs": [],
   "source": [
    "def show_volume(volume, mode='sum', axis='Z', bins=100):\n",
    "    fig = plt.figure(figsize=(12,4))\n",
    "    plt.subplot(121)\n",
    "    display_volume(volume, mode=mode, axis=axis, dimension=2)\n",
    "    plt.subplot(122)\n",
    "    display_hist(volume.flatten(), bins=bins)\n",
    "    plt.show()\n",
    "    \n",
    "def display_volume(volume, mode='sum', axis='Z', dimension=2, cmap='Greys'):\n",
    "    #display_dimension = 2\n",
    "    nx = volume.shape[0]\n",
    "    if(dimension < 3):\n",
    "        if(mode=='sum'):\n",
    "            if(axis=='X'):\n",
    "                numaxis=0\n",
    "            elif(axis=='Y'):\n",
    "                numaxis=1\n",
    "            elif(axis=='Z'):\n",
    "                numaxis=2\n",
    "            plt.imshow(np.sum(volume,axis=numaxis), cmap=cmap)\n",
    "        elif(mode=='slice'):\n",
    "            if(axis=='X'):\n",
    "                plt.imshow(volume[int(nx/2),...], cmap=cmap)\n",
    "            elif(axis=='Y'):\n",
    "                plt.imshow(volume[:,int(nx/2),:], cmap=cmap)\n",
    "            elif(axis=='Z'):\n",
    "                plt.imshow(volume[:,:,int(nx/2)], cmap=cmap)\n",
    "        plt.colorbar()\n",
    "\n",
    "def display_hist(volume, bins=10):\n",
    "    plt.hist(volume, bins=bins, log=True, color='grey')\n",
    "    plt.grid()\n",
    "    plt.show()"
   ]
  },
  {
   "cell_type": "code",
   "execution_count": 43,
   "metadata": {},
   "outputs": [
    {
     "data": {
      "image/png": "[encoded data removed]",
      "text/plain": [
       "<Figure size 864x288 with 3 Axes>"
      ]
     },
     "metadata": {
      "needs_background": "light"
     },
     "output_type": "display_data"
    }
   ],
   "source": [
    "show_volume(density_volume)"
   ]
  },
  {
   "cell_type": "code",
   "execution_count": null,
   "metadata": {},
   "outputs": [],
   "source": []
  },
  {
   "cell_type": "code",
   "execution_count": null,
   "metadata": {},
   "outputs": [],
   "source": []
  }
 ],
 "metadata": {
  "kernelspec": {
   "display_name": "Python 3",
   "language": "python",
   "name": "python3"
  },
  "language_info": {
   "codemirror_mode": {
    "name": "ipython",
    "version": 3
   },
   "file_extension": ".py",
   "mimetype": "text/x-python",
   "name": "python",
   "nbconvert_exporter": "python",
   "pygments_lexer": "ipython3",
   "version": "3.7.6"
  }
 },
 "nbformat": 4,
 "nbformat_minor": 4
}
