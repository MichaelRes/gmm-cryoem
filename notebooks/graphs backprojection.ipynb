{
 "cells": [
  {
   "cell_type": "code",
   "execution_count": 1,
   "metadata": {},
   "outputs": [],
   "source": [
    "%matplotlib inline"
   ]
  },
  {
   "cell_type": "code",
   "execution_count": 2,
   "metadata": {},
   "outputs": [],
   "source": [
    "import numpy as np\n",
    "import matplotlib.pyplot as plt\n",
    "from scipy.spatial.transform import Rotation as R\n",
    "import ipyvolume as ipv\n",
    "import pathlib, glob\n",
    "from scipy.stats import norm\n",
    "import time"
   ]
  },
  {
   "cell_type": "code",
   "execution_count": 3,
   "metadata": {},
   "outputs": [],
   "source": [
    "import sys\n",
    "sys.path.append('../src/')\n",
    "from forward_modeling import project_volume, create_circular_mask, slice_volume, rotate_volume, take_slice, project_volume_bis, backprojection, add_slice\n",
    "from scipy.interpolate import RegularGridInterpolator, griddata\n",
    "from molecular_handling import particle\n",
    "from molecular_handling import generate_dataset\n",
    "from scipy.spatial.transform import Rotation as R\n",
    "from forward_modeling import project_volume"
   ]
  },
  {
   "cell_type": "code",
   "execution_count": 4,
   "metadata": {},
   "outputs": [
    {
     "name": "stdout",
     "output_type": "stream",
     "text": [
      "Data directory ../data/test exists: \n",
      ">>> ../data/test/particle_hires_xyz.npy\n",
      ">>> ../data/test/particle_oddres_meta.npy\n",
      ">>> ../data/test/particle_hires_map.npy\n",
      ">>> ../data/test/.DS_Store\n",
      ">>> ../data/test/particle_meta.npy\n",
      ">>> ../data/test/het_particle_meta.npy\n",
      ">>> ../data/test/particle_hires_data.npy\n",
      ">>> ../data/test/particle_hires_meta.npy\n",
      ">>> ../data/test/particle_map.npy\n",
      ">>> ../data/test/particle_oddres_data.npy\n",
      ">>> ../data/test/particle_xyz.npy\n",
      ">>> ../data/test/particle_oddres_map.npy\n",
      ">>> ../data/test/het_particle_data.npy\n",
      ">>> ../data/test/particle_oddres_xyz.npy\n",
      ">>> ../data/test/het_particle_map.npy\n",
      ">>> ../data/test/particle_data.npy\n"
     ]
    }
   ],
   "source": [
    "data_directory = pathlib.Path('..') / 'data'  # directory where the data is\n",
    "output_dir = data_directory / 'test'\n",
    "if output_dir.exists():\n",
    "    print(f'Data directory {output_dir} exists: ')\n",
    "    for x in list(output_dir.glob('*')):\n",
    "        print(f'>>> {str(x)}') "
   ]
  },
  {
   "cell_type": "markdown",
   "metadata": {},
   "source": [
    "## Evolution of the Mean-Squared Error with the length of the dataset"
   ]
  },
  {
   "cell_type": "code",
   "execution_count": 5,
   "metadata": {},
   "outputs": [
    {
     "name": "stdout",
     "output_type": "stream",
     "text": [
      "With length = 10:\n",
      "sum of pixels for backprojection: 792.7008133117334\n",
      "sum of pixels for real volume: 792.6914147189551\n",
      "sum of pixels for backprojection in Fourier space: 52563.723175151674\n",
      "sum of pixels for real volume in Fourier space: 58448.312608640634\n",
      "mse in real space: 0.0033383101543929244\n",
      "--------------------------------------------------\n",
      "With length = 30:\n",
      "sum of pixels for backprojection: 792.7007944946276\n",
      "sum of pixels for real volume: 792.6914147189551\n",
      "sum of pixels for backprojection in Fourier space: 52356.83008517097\n",
      "sum of pixels for real volume in Fourier space: 58448.312608640634\n",
      "mse in real space: 0.002049683911892744\n",
      "--------------------------------------------------\n",
      "With length = 50:\n",
      "sum of pixels for backprojection: 792.70078984837\n",
      "sum of pixels for real volume: 792.6914147189551\n",
      "sum of pixels for backprojection in Fourier space: 50207.53103165138\n",
      "sum of pixels for real volume in Fourier space: 58448.312608640634\n",
      "mse in real space: 0.0019142866361428446\n",
      "--------------------------------------------------\n",
      "With length = 80:\n",
      "sum of pixels for backprojection: 792.7007899389826\n",
      "sum of pixels for real volume: 792.6914147189551\n",
      "sum of pixels for backprojection in Fourier space: 49377.270176161604\n",
      "sum of pixels for real volume in Fourier space: 58448.312608640634\n",
      "mse in real space: 0.001580051768120867\n",
      "--------------------------------------------------\n",
      "With length = 100:\n",
      "sum of pixels for backprojection: 792.7007992510618\n",
      "sum of pixels for real volume: 792.6914147189551\n",
      "sum of pixels for backprojection in Fourier space: 49203.67835131778\n",
      "sum of pixels for real volume in Fourier space: 58448.312608640634\n",
      "mse in real space: 0.0013928054392778097\n",
      "--------------------------------------------------\n",
      "With length = 150:\n",
      "sum of pixels for backprojection: 792.7007885979879\n",
      "sum of pixels for real volume: 792.6914147189551\n",
      "sum of pixels for backprojection in Fourier space: 48653.28006100392\n",
      "sum of pixels for real volume in Fourier space: 58448.312608640634\n",
      "mse in real space: 0.0014433496189352967\n",
      "--------------------------------------------------\n",
      "With length = 200:\n",
      "sum of pixels for backprojection: 792.700781157624\n",
      "sum of pixels for real volume: 792.6914147189551\n",
      "sum of pixels for backprojection in Fourier space: 48422.67606052369\n",
      "sum of pixels for real volume in Fourier space: 58448.312608640634\n",
      "mse in real space: 0.0015148142324956575\n",
      "--------------------------------------------------\n",
      "With length = 300:\n",
      "sum of pixels for backprojection: 792.7007840466811\n",
      "sum of pixels for real volume: 792.6914147189551\n",
      "sum of pixels for backprojection in Fourier space: 48362.88625362117\n",
      "sum of pixels for real volume in Fourier space: 58448.312608640634\n",
      "mse in real space: 0.001556834524534103\n",
      "--------------------------------------------------\n",
      "With length = 500:\n",
      "sum of pixels for backprojection: 792.7007737438979\n",
      "sum of pixels for real volume: 792.6914147189551\n",
      "sum of pixels for backprojection in Fourier space: 48114.886840808394\n",
      "sum of pixels for real volume in Fourier space: 58448.312608640634\n",
      "mse in real space: 0.001599332093222778\n",
      "--------------------------------------------------\n",
      "With length = 700:\n",
      "sum of pixels for backprojection: 792.7007745795347\n",
      "sum of pixels for real volume: 792.6914147189551\n",
      "sum of pixels for backprojection in Fourier space: 48178.259666204016\n",
      "sum of pixels for real volume in Fourier space: 58448.312608640634\n",
      "mse in real space: 0.001623003956742074\n",
      "--------------------------------------------------\n",
      "With length = 1000:\n",
      "sum of pixels for backprojection: 792.7007778334084\n",
      "sum of pixels for real volume: 792.6914147189551\n",
      "sum of pixels for backprojection in Fourier space: 48166.09666861258\n",
      "sum of pixels for real volume in Fourier space: 58448.312608640634\n",
      "mse in real space: 0.0016193960149063359\n",
      "--------------------------------------------------\n",
      "With length = 1200:\n",
      "sum of pixels for backprojection: 792.7007784461747\n",
      "sum of pixels for real volume: 792.6914147189551\n",
      "sum of pixels for backprojection in Fourier space: 48128.82512784879\n",
      "sum of pixels for real volume in Fourier space: 58448.312608640634\n",
      "mse in real space: 0.0015886782919470705\n",
      "--------------------------------------------------\n",
      "With length = 1500:\n",
      "sum of pixels for backprojection: 792.7007772820602\n",
      "sum of pixels for real volume: 792.6914147189551\n",
      "sum of pixels for backprojection in Fourier space: 48078.29293713745\n",
      "sum of pixels for real volume in Fourier space: 58448.312608640634\n",
      "mse in real space: 0.00158329271293044\n",
      "--------------------------------------------------\n",
      "With length = 2000:\n",
      "sum of pixels for backprojection: 792.7007777355662\n",
      "sum of pixels for real volume: 792.6914147189551\n",
      "sum of pixels for backprojection in Fourier space: 48019.04039127367\n",
      "sum of pixels for real volume in Fourier space: 58448.312608640634\n",
      "mse in real space: 0.0015747960992000464\n",
      "--------------------------------------------------\n",
      "With length = 3000:\n",
      "sum of pixels for backprojection: 792.7007801877651\n",
      "sum of pixels for real volume: 792.6914147189551\n",
      "sum of pixels for backprojection in Fourier space: 48003.846505754984\n",
      "sum of pixels for real volume in Fourier space: 58448.312608640634\n",
      "mse in real space: 0.0015956317171571149\n",
      "--------------------------------------------------\n"
     ]
    }
   ],
   "source": [
    "keyword='particle_oddres'\n",
    "dataset     = np.load(f'{output_dir}/{keyword}_data.npy')\n",
    "metadataset = np.load(f'{output_dir}/{keyword}_meta.npy')\n",
    "volume      = np.load(f'{output_dir}/{keyword}_map.npy')\n",
    "structure   = np.load(f'{output_dir}/{keyword}_xyz.npy')\n",
    "\n",
    "lengths = [10,30,50,80,100,150,200,300,500,700,1000,1200,1500,2000,3000]\n",
    "solutions = []\n",
    "scores = []\n",
    "mse = []\n",
    "\n",
    "for length in lengths:\n",
    "    volume_fft = np.fft.fftshift(np.fft.fftn(np.fft.fftshift(volume)))\n",
    "    vol = (backprojection(dataset[:length], metadataset[:length,0:3]))\n",
    "    vol_fft = np.fft.fftshift(np.fft.fftn(np.fft.fftshift(vol)))\n",
    "    print(f\"With length = {length}:\")\n",
    "    print(f\"sum of pixels for backprojection: {np.sum(np.real(vol))}\")\n",
    "    print(f\"sum of pixels for real volume: {np.sum(np.real(volume))}\")\n",
    "    print(f\"sum of pixels for backprojection in Fourier space: {np.sum(np.abs(vol_fft))}\")\n",
    "    print(f\"sum of pixels for real volume in Fourier space: {np.sum(np.abs(volume_fft))}\")\n",
    "    print(f\"mse in real space: {(np.mean(np.power(volume-vol, 2)))}\")\n",
    "\n",
    "    print(50*\"-\")\n",
    "    scores.append(np.sum(np.real(vol)))\n",
    "    mse.append((np.mean(np.power(volume-vol, 2))))\n",
    "    solutions.append(np.sum(np.real(volume)))"
   ]
  },
  {
   "cell_type": "code",
   "execution_count": 6,
   "metadata": {},
   "outputs": [
    {
     "name": "stdout",
     "output_type": "stream",
     "text": [
      "With length = 10:\n",
      "sum of pixels for backprojection: 562.3995199835698\n",
      "sum of pixels for real volume: 720.6748632877983\n",
      "sum of pixels for backprojection in Fourier space: 50423.36185306636\n",
      "sum of pixels for real volume in Fourier space: 53294.07101520368\n",
      "mse in real space: 0.001343599740656733\n",
      "--------------------------------------------------\n",
      "With length = 30:\n",
      "sum of pixels for backprojection: 553.7443198240973\n",
      "sum of pixels for real volume: 720.6748632877983\n",
      "sum of pixels for backprojection in Fourier space: 50534.763743120704\n",
      "sum of pixels for real volume in Fourier space: 53294.07101520368\n",
      "mse in real space: 0.00105006051291434\n",
      "--------------------------------------------------\n",
      "With length = 50:\n",
      "sum of pixels for backprojection: 558.9585294016373\n",
      "sum of pixels for real volume: 720.6748632877983\n",
      "sum of pixels for backprojection in Fourier space: 50345.41230664957\n",
      "sum of pixels for real volume in Fourier space: 53294.07101520368\n",
      "mse in real space: 0.0008954493905402923\n",
      "--------------------------------------------------\n",
      "With length = 80:\n",
      "sum of pixels for backprojection: 563.9555689807707\n",
      "sum of pixels for real volume: 720.6748632877983\n",
      "sum of pixels for backprojection in Fourier space: 50141.78838884686\n",
      "sum of pixels for real volume in Fourier space: 53294.07101520368\n",
      "mse in real space: 0.0008502260541455069\n",
      "--------------------------------------------------\n",
      "With length = 100:\n",
      "sum of pixels for backprojection: 562.9952429497456\n",
      "sum of pixels for real volume: 720.6748632877983\n",
      "sum of pixels for backprojection in Fourier space: 49972.04438962419\n",
      "sum of pixels for real volume in Fourier space: 53294.07101520368\n",
      "mse in real space: 0.0008167269925711928\n",
      "--------------------------------------------------\n",
      "With length = 150:\n",
      "sum of pixels for backprojection: 560.6142797209693\n",
      "sum of pixels for real volume: 720.6748632877983\n",
      "sum of pixels for backprojection in Fourier space: 49697.221463953996\n",
      "sum of pixels for real volume in Fourier space: 53294.07101520368\n",
      "mse in real space: 0.0008085202992803256\n",
      "--------------------------------------------------\n",
      "With length = 200:\n",
      "sum of pixels for backprojection: 557.8201506497213\n",
      "sum of pixels for real volume: 720.6748632877983\n",
      "sum of pixels for backprojection in Fourier space: 49690.37913403778\n",
      "sum of pixels for real volume in Fourier space: 53294.07101520368\n",
      "mse in real space: 0.0007822632740001698\n",
      "--------------------------------------------------\n",
      "With length = 300:\n",
      "sum of pixels for backprojection: 559.2939470592662\n",
      "sum of pixels for real volume: 720.6748632877983\n",
      "sum of pixels for backprojection in Fourier space: 49547.8865658103\n",
      "sum of pixels for real volume in Fourier space: 53294.07101520368\n",
      "mse in real space: 0.0007763891449430477\n",
      "--------------------------------------------------\n",
      "With length = 500:\n",
      "sum of pixels for backprojection: 561.7113326525408\n",
      "sum of pixels for real volume: 720.6748632877983\n",
      "sum of pixels for backprojection in Fourier space: 49441.544659916806\n",
      "sum of pixels for real volume in Fourier space: 53294.07101520368\n",
      "mse in real space: 0.0007365708450554481\n",
      "--------------------------------------------------\n",
      "With length = 700:\n",
      "sum of pixels for backprojection: 560.8255664251644\n",
      "sum of pixels for real volume: 720.6748632877983\n",
      "sum of pixels for backprojection in Fourier space: 49588.8036550436\n",
      "sum of pixels for real volume in Fourier space: 53294.07101520368\n",
      "mse in real space: 0.0007371877885938209\n",
      "--------------------------------------------------\n",
      "With length = 1000:\n",
      "sum of pixels for backprojection: 557.7017455677843\n",
      "sum of pixels for real volume: 720.6748632877983\n",
      "sum of pixels for backprojection in Fourier space: 49561.365193833044\n",
      "sum of pixels for real volume in Fourier space: 53294.07101520368\n",
      "mse in real space: 0.0007582479919478134\n",
      "--------------------------------------------------\n",
      "With length = 1200:\n",
      "sum of pixels for backprojection: 559.0420612424991\n",
      "sum of pixels for real volume: 720.6748632877983\n",
      "sum of pixels for backprojection in Fourier space: 49630.19404932349\n",
      "sum of pixels for real volume in Fourier space: 53294.07101520368\n",
      "mse in real space: 0.0007478737212251508\n",
      "--------------------------------------------------\n",
      "With length = 1500:\n",
      "sum of pixels for backprojection: 559.6031026275076\n",
      "sum of pixels for real volume: 720.6748632877983\n",
      "sum of pixels for backprojection in Fourier space: 49616.501055279805\n",
      "sum of pixels for real volume in Fourier space: 53294.07101520368\n",
      "mse in real space: 0.0007518506673060577\n",
      "--------------------------------------------------\n",
      "With length = 2000:\n",
      "sum of pixels for backprojection: 559.0354321838696\n",
      "sum of pixels for real volume: 720.6748632877983\n",
      "sum of pixels for backprojection in Fourier space: 49589.49088599005\n",
      "sum of pixels for real volume in Fourier space: 53294.07101520368\n",
      "mse in real space: 0.000755144847081916\n",
      "--------------------------------------------------\n",
      "With length = 3000:\n",
      "sum of pixels for backprojection: 557.9382567646085\n",
      "sum of pixels for real volume: 720.6748632877983\n",
      "sum of pixels for backprojection in Fourier space: 49578.73422139514\n",
      "sum of pixels for real volume in Fourier space: 53294.07101520368\n",
      "mse in real space: 0.0007549781189768823\n",
      "--------------------------------------------------\n"
     ]
    }
   ],
   "source": [
    "keyword='particle'\n",
    "dataset     = np.load(f'{output_dir}/{keyword}_data.npy')\n",
    "metadataset = np.load(f'{output_dir}/{keyword}_meta.npy')\n",
    "volume2      = np.load(f'{output_dir}/{keyword}_map.npy')\n",
    "structure   = np.load(f'{output_dir}/{keyword}_xyz.npy')\n",
    "\n",
    "lengths = [10,30,50,80,100,150,200,300,500,700,1000,1200,1500,2000,3000]\n",
    "scores2 = []\n",
    "mse2 = []\n",
    "solutions2=[]\n",
    "\n",
    "for length in lengths:\n",
    "    volume_fft = np.fft.fftshift(np.fft.fftn(np.fft.fftshift(volume2)))\n",
    "    vol2 = (backprojection(dataset[:length], metadataset[:length,0:3]))\n",
    "    vol_fft = np.fft.fftshift(np.fft.fftn(np.fft.fftshift(vol2)))\n",
    "    print(f\"With length = {length}:\")\n",
    "    print(f\"sum of pixels for backprojection: {np.sum(np.real(vol2))}\")\n",
    "    print(f\"sum of pixels for real volume: {np.sum(np.real(volume2))}\")\n",
    "    print(f\"sum of pixels for backprojection in Fourier space: {np.sum(np.abs(vol_fft))}\")\n",
    "    print(f\"sum of pixels for real volume in Fourier space: {np.sum(np.abs(volume_fft))}\")\n",
    "    print(f\"mse in real space: {(np.mean(np.power(volume2-vol2, 2)))}\")\n",
    "\n",
    "    print(50*\"-\")\n",
    "    scores2.append(np.sum(np.real(vol2)))\n",
    "    mse2.append(np.mean(np.power(volume2-vol2, 2)))\n",
    "    solutions2.append(np.sum(np.real(volume2)))"
   ]
  },
  {
   "cell_type": "code",
   "execution_count": 7,
   "metadata": {},
   "outputs": [
    {
     "data": {
      "image/png": "[encoded data removed]",
      "text/plain": [
       "<Figure size 432x288 with 1 Axes>"
      ]
     },
     "metadata": {
      "needs_background": "light"
     },
     "output_type": "display_data"
    },
    {
     "data": {
      "image/png": "[encoded data removed]",
      "text/plain": [
       "<Figure size 432x288 with 1 Axes>"
      ]
     },
     "metadata": {
      "needs_background": "light"
     },
     "output_type": "display_data"
    },
    {
     "data": {
      "image/png": "[encoded data removed]",
      "text/plain": [
       "<Figure size 432x288 with 1 Axes>"
      ]
     },
     "metadata": {
      "needs_background": "light"
     },
     "output_type": "display_data"
    },
    {
     "data": {
      "image/png": "[encoded data removed]",
      "text/plain": [
       "<Figure size 432x288 with 1 Axes>"
      ]
     },
     "metadata": {
      "needs_background": "light"
     },
     "output_type": "display_data"
    }
   ],
   "source": [
    "plt.plot(lengths, scores, label='odd resolution')\n",
    "plt.plot(lengths,solutions, label='solution')\n",
    "plt.legend()\n",
    "plt.show()\n",
    "\n",
    "plt.plot(lengths, scores2, label='even resolution')\n",
    "plt.plot(lengths,solutions2, label='solution')\n",
    "plt.legend()\n",
    "plt.show()\n",
    "\n",
    "\n",
    "plt.plot(lengths, mse, label='odd resolution')\n",
    "plt.xlabel('lenght of dataset')\n",
    "plt.ylabel('mse')\n",
    "plt.legend()\n",
    "plt.show()\n",
    "\n",
    "plt.plot(lengths, mse2, label='even resolution')\n",
    "plt.xlabel('lenght of dataset')\n",
    "plt.ylabel('mse2')\n",
    "plt.legend()\n",
    "plt.show()"
   ]
  },
  {
   "cell_type": "markdown",
   "metadata": {},
   "source": [
    "Comments:\n",
    "\n",
    "- The reconstruction doesn't lose intensity when the number of voxels per dimension is odd\n",
    "- However the mean squared error is higher in the case odd"
   ]
  },
  {
   "cell_type": "markdown",
   "metadata": {},
   "source": [
    "## Evolution of the Mean-Squared Error with the size of the grid"
   ]
  },
  {
   "cell_type": "code",
   "execution_count": 8,
   "metadata": {},
   "outputs": [
    {
     "name": "stdout",
     "output_type": "stream",
     "text": [
      "With res = 8x8:\n",
      "100 images were created\n",
      "sum of pixels for backprojection: 5.810492413616709\n",
      "sum of pixels for real volume: 8.287035136242396\n",
      "sum of pixels for backprojection in Fourier space: 339.0426775305235\n",
      "sum of pixels for real volume in Fourier space: 633.3305091026141\n",
      "mse in real space: 0.003965477839027289\n",
      "time required: 0.1652841567993164\n",
      "--------------------------------------------------\n",
      "With res = 9x9:\n",
      "100 images were created\n",
      "sum of pixels for backprojection: 12.386245529581892\n",
      "sum of pixels for real volume: 12.383579015201255\n",
      "sum of pixels for backprojection in Fourier space: 319.04098915466415\n",
      "sum of pixels for real volume in Fourier space: 1026.558693052858\n",
      "mse in real space: 0.005548796301406224\n",
      "time required: 0.18987798690795898\n",
      "--------------------------------------------------\n",
      "With res = 16x16:\n",
      "100 images were created\n",
      "sum of pixels for backprojection: 58.696896350522096\n",
      "sum of pixels for real volume: 81.64471878297617\n",
      "sum of pixels for backprojection in Fourier space: 5246.190869711661\n",
      "sum of pixels for real volume in Fourier space: 6667.865648107968\n",
      "mse in real space: 0.0021235959202393086\n",
      "time required: 0.3417069911956787\n",
      "--------------------------------------------------\n",
      "With res = 17x17:\n",
      "100 images were created\n",
      "sum of pixels for backprojection: 99.08760876157498\n",
      "sum of pixels for real volume: 99.08643278933953\n",
      "sum of pixels for backprojection in Fourier space: 4514.937355815492\n",
      "sum of pixels for real volume in Fourier space: 7987.978063630346\n",
      "mse in real space: 0.0035462555384609537\n",
      "time required: 0.39066076278686523\n",
      "--------------------------------------------------\n",
      "With res = 32x32:\n",
      "100 images were created\n",
      "sum of pixels for backprojection: 532.2900106853134\n",
      "sum of pixels for real volume: 720.6747495946169\n",
      "sum of pixels for backprojection in Fourier space: 47852.891927286575\n",
      "sum of pixels for real volume in Fourier space: 53302.73568937719\n",
      "mse in real space: 0.0009251901063064988\n",
      "time required: 1.0813751220703125\n",
      "--------------------------------------------------\n",
      "With res = 33x33:\n",
      "100 images were created\n",
      "sum of pixels for backprojection: 792.7007973129115\n",
      "sum of pixels for real volume: 792.6915802739532\n",
      "sum of pixels for backprojection in Fourier space: 48833.38851674197\n",
      "sum of pixels for real volume in Fourier space: 58454.143793104915\n",
      "mse in real space: 0.0023177185789659423\n",
      "time required: 1.1099300384521484\n",
      "--------------------------------------------------\n",
      "With res = 64x64:\n",
      "100 images were created\n",
      "sum of pixels for backprojection: 4697.610531646395\n",
      "sum of pixels for real volume: 6048.893725355136\n",
      "sum of pixels for backprojection in Fourier space: 416917.63265008724\n",
      "sum of pixels for real volume in Fourier space: 426591.0987663124\n",
      "mse in real space: 0.0006049506135451027\n",
      "time required: 4.483797073364258\n",
      "--------------------------------------------------\n",
      "With res = 65x65:\n",
      "100 images were created\n",
      "sum of pixels for backprojection: 6341.6047989937015\n",
      "sum of pixels for real volume: 6341.532606648489\n",
      "sum of pixels for backprojection in Fourier space: 430676.8904874803\n",
      "sum of pixels for real volume in Fourier space: 446899.6925228109\n",
      "mse in real space: 0.00044879029692289455\n",
      "time required: 4.691020727157593\n",
      "--------------------------------------------------\n",
      "With res = 128x128:\n",
      "100 images were created\n",
      "sum of pixels for backprojection: 37649.71473446972\n",
      "sum of pixels for real volume: 49552.43951532959\n",
      "sum of pixels for backprojection in Fourier space: 3306575.9687708286\n",
      "sum of pixels for real volume in Fourier space: 3411310.639397684\n",
      "mse in real space: 0.0006577350473926411\n",
      "time required: 22.97971796989441\n",
      "--------------------------------------------------\n",
      "With res = 129x129:\n",
      "100 images were created\n",
      "sum of pixels for backprojection: 50732.834412562916\n",
      "sum of pixels for real volume: 50732.24895358463\n",
      "sum of pixels for backprojection in Fourier space: 3480204.190040309\n",
      "sum of pixels for real volume in Fourier space: 3489462.163540533\n",
      "mse in real space: 0.00019861437721647394\n",
      "time required: 24.19537901878357\n",
      "--------------------------------------------------\n",
      "With res = 256x256:\n",
      "100 images were created\n",
      "sum of pixels for backprojection: 290447.59834188514\n",
      "sum of pixels for real volume: 401120.2796406144\n",
      "sum of pixels for backprojection in Fourier space: 26092964.592002172\n",
      "sum of pixels for real volume in Fourier space: 27287351.95673814\n",
      "mse in real space: 0.0007554964658403834\n",
      "time required: 135.13968181610107\n",
      "--------------------------------------------------\n",
      "With res = 257x257:\n",
      "100 images were created\n",
      "sum of pixels for backprojection: 405862.64125944354\n",
      "sum of pixels for real volume: 405857.77081294294\n",
      "sum of pixels for backprojection in Fourier space: 27798817.4775457\n",
      "sum of pixels for real volume in Fourier space: 27618289.718825098\n",
      "mse in real space: 0.0001063403293341941\n",
      "time required: 176.90923857688904\n",
      "--------------------------------------------------\n"
     ]
    }
   ],
   "source": [
    "crds = np.array([[0.,5.,5.],[5.,5.,5.],[5.,5.,0.]])\n",
    "sizes_grid = [8,9,16,17,32,33,64,65,128,129,256,257]\n",
    "scores_ = []\n",
    "solutions = []\n",
    "mse_ = []\n",
    "for size_grid in sizes_grid:\n",
    "    start = time.time()\n",
    "    print(f\"With res = {size_grid}x{size_grid}:\")\n",
    "    particle_ = particle(n_atom=3, rads_atom=[2.,2.,2.], crds = crds,size_grid=size_grid)\n",
    "    particle_.create_map()\n",
    "    volume = particle_.volume\n",
    "    data, metadata = generate_dataset(particle_, n_projections=100, save=False)\n",
    "    \n",
    "    volume_fft = np.fft.fftshift(np.fft.fftn(np.fft.fftshift(volume)))\n",
    "    vol = (backprojection(data, metadata[:,0:3]))\n",
    "    vol_fft = np.fft.fftshift(np.fft.fftn(np.fft.fftshift(vol)))\n",
    "    end = time.time()\n",
    "\n",
    "    print(f\"sum of pixels for backprojection: {np.sum(np.real(vol))}\")\n",
    "    print(f\"sum of pixels for real volume: {np.sum(np.real(volume))}\")\n",
    "    print(f\"sum of pixels for backprojection in Fourier space: {np.sum(np.abs(vol_fft))}\")\n",
    "    print(f\"sum of pixels for real volume in Fourier space: {np.sum(np.abs(volume_fft))}\")\n",
    "    print(f\"mse in real space: {(np.mean(np.power(volume-vol, 2)))}\")\n",
    "    print(f\"time required: {end-start}\")\n",
    "    print(50*\"-\")\n",
    "    \n",
    "    scores_.append(np.sum(np.real(vol)))\n",
    "    solutions.append(np.sum(np.real(volume)))\n",
    "    mse_.append((np.mean(np.power(volume-vol, 2))))"
   ]
  },
  {
   "cell_type": "code",
   "execution_count": 9,
   "metadata": {},
   "outputs": [
    {
     "data": {
      "image/png": "[encoded data removed]",
      "text/plain": [
       "<Figure size 432x288 with 1 Axes>"
      ]
     },
     "metadata": {
      "needs_background": "light"
     },
     "output_type": "display_data"
    },
    {
     "data": {
      "image/png": "[encoded data removed]",
      "text/plain": [
       "<Figure size 432x288 with 1 Axes>"
      ]
     },
     "metadata": {
      "needs_background": "light"
     },
     "output_type": "display_data"
    },
    {
     "data": {
      "image/png": "[encoded data removed]",
      "text/plain": [
       "<Figure size 432x288 with 1 Axes>"
      ]
     },
     "metadata": {
      "needs_background": "light"
     },
     "output_type": "display_data"
    }
   ],
   "source": [
    "plt.plot([sizes_grid[2*i] for i in range(len(sizes_grid)//2)], [scores_[2*i] for i in range(len(scores_)//2)], label='even')\n",
    "plt.plot(sizes_grid,solutions, label='solution')\n",
    "plt.legend()\n",
    "plt.show()\n",
    "\n",
    "plt.plot([sizes_grid[2*i+1] for i in range(len(sizes_grid)//2)], [scores_[2*i+1] for i in range(len(scores_)//2)], label='uneven')\n",
    "plt.plot(sizes_grid,solutions, label='solution')\n",
    "plt.legend()\n",
    "plt.show()\n",
    "\n",
    "plt.plot([sizes_grid[2*i] for i in range(len(sizes_grid)//2)], [mse_[2*i] for i in range(len(mse_)//2)], label='even resolution')\n",
    "plt.xlabel('size_grid')\n",
    "plt.ylabel('mse')\n",
    "plt.plot([sizes_grid[2*i+1] for i in range(len(sizes_grid)//2)], [mse_[2*i+1] for i in range(len(mse_)//2)], label='uneven resolution')\n",
    "plt.legend()\n",
    "plt.show()\n",
    "\n",
    "#plt.plot(sizes_grid, [mse_[i]/sizes_grid[i]**3 for i in range(len(mse_))], label='mean squared error')\n",
    "#plt.xlabel('size_grid')\n",
    "#plt.ylabel('averaged mse')\n",
    "#plt.legend()\n",
    "#plt.show()"
   ]
  }
 ],
 "metadata": {
  "kernelspec": {
   "display_name": "Python 3",
   "language": "python",
   "name": "python3"
  },
  "language_info": {
   "codemirror_mode": {
    "name": "ipython",
    "version": 3
   },
   "file_extension": ".py",
   "mimetype": "text/x-python",
   "name": "python",
   "nbconvert_exporter": "python",
   "pygments_lexer": "ipython3",
   "version": "3.6.10"
  }
 },
 "nbformat": 4,
 "nbformat_minor": 4
}
